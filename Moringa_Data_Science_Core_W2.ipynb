{
  "nbformat": 4,
  "nbformat_minor": 0,
  "metadata": {
    "colab": {
      "name": "Moringa_Data_Science_Core_W2",
      "provenance": [],
      "authorship_tag": "ABX9TyOSmh9/Iy8s3/Lzb9cdT0bl",
      "include_colab_link": true
    },
    "kernelspec": {
      "name": "python3",
      "display_name": "Python 3"
    }
  },
  "cells": [
    {
      "cell_type": "markdown",
      "metadata": {
        "id": "view-in-github",
        "colab_type": "text"
      },
      "source": [
        "<a href=\"https://colab.research.google.com/github/BrianChegeGichau/predictivesbasics/blob/master/Moringa_Data_Science_Core_W2.ipynb\" target=\"_parent\"><img src=\"https://colab.research.google.com/assets/colab-badge.svg\" alt=\"Open In Colab\"/></a>"
      ]
    },
    {
      "cell_type": "markdown",
      "metadata": {
        "id": "AqtBep82A70O",
        "colab_type": "text"
      },
      "source": [
        "Importing the necessary libraries"
      ]
    },
    {
      "cell_type": "code",
      "metadata": {
        "id": "J9V8zPUKUtqU",
        "colab_type": "code",
        "colab": {}
      },
      "source": [
        "import pandas as pd\n",
        "import numpy as np\n",
        "import seaborn as sns\n",
        "import matplotlib.pyplot as plt"
      ],
      "execution_count": 147,
      "outputs": []
    },
    {
      "cell_type": "markdown",
      "metadata": {
        "id": "ADVrEgkQBE2Z",
        "colab_type": "text"
      },
      "source": [
        "Importing the Financial Dataset"
      ]
    },
    {
      "cell_type": "code",
      "metadata": {
        "id": "fS4iS-qMToXc",
        "colab_type": "code",
        "colab": {}
      },
      "source": [
        "df=pd.read_csv('Financial Dataset.csv',delimiter=',')"
      ],
      "execution_count": 162,
      "outputs": []
    },
    {
      "cell_type": "markdown",
      "metadata": {
        "id": "VAWVzQz6BKs1",
        "colab_type": "text"
      },
      "source": [
        "Previeweing the dataset"
      ]
    },
    {
      "cell_type": "code",
      "metadata": {
        "id": "I72MLfnGUZ7p",
        "colab_type": "code",
        "colab": {
          "base_uri": "https://localhost:8080/",
          "height": 216
        },
        "outputId": "fc9d1e15-d589-4813-8a4d-538e8c9d319b"
      },
      "source": [
        "df.head(2)"
      ],
      "execution_count": 163,
      "outputs": [
        {
          "output_type": "execute_result",
          "data": {
            "text/html": [
              "<div>\n",
              "<style scoped>\n",
              "    .dataframe tbody tr th:only-of-type {\n",
              "        vertical-align: middle;\n",
              "    }\n",
              "\n",
              "    .dataframe tbody tr th {\n",
              "        vertical-align: top;\n",
              "    }\n",
              "\n",
              "    .dataframe thead th {\n",
              "        text-align: right;\n",
              "    }\n",
              "</style>\n",
              "<table border=\"1\" class=\"dataframe\">\n",
              "  <thead>\n",
              "    <tr style=\"text-align: right;\">\n",
              "      <th></th>\n",
              "      <th>country</th>\n",
              "      <th>year</th>\n",
              "      <th>uniqueid</th>\n",
              "      <th>Has a Bank account</th>\n",
              "      <th>Type of Location</th>\n",
              "      <th>Cell Phone Access</th>\n",
              "      <th>household_size</th>\n",
              "      <th>Respondent Age</th>\n",
              "      <th>gender_of_respondent</th>\n",
              "      <th>The relathip with head</th>\n",
              "      <th>marital_status</th>\n",
              "      <th>Level of Educuation</th>\n",
              "      <th>Type of Job</th>\n",
              "    </tr>\n",
              "  </thead>\n",
              "  <tbody>\n",
              "    <tr>\n",
              "      <th>0</th>\n",
              "      <td>Kenya</td>\n",
              "      <td>2018</td>\n",
              "      <td>uniqueid_1</td>\n",
              "      <td>Yes</td>\n",
              "      <td>Rural</td>\n",
              "      <td>Yes</td>\n",
              "      <td>3.0</td>\n",
              "      <td>24.0</td>\n",
              "      <td>Female</td>\n",
              "      <td>Spouse</td>\n",
              "      <td>Married/Living together</td>\n",
              "      <td>Secondary education</td>\n",
              "      <td>Self employed</td>\n",
              "    </tr>\n",
              "    <tr>\n",
              "      <th>1</th>\n",
              "      <td>Kenya</td>\n",
              "      <td>2018</td>\n",
              "      <td>uniqueid_2</td>\n",
              "      <td>No</td>\n",
              "      <td>Rural</td>\n",
              "      <td>No</td>\n",
              "      <td>5.0</td>\n",
              "      <td>70.0</td>\n",
              "      <td>Female</td>\n",
              "      <td>Head of Household</td>\n",
              "      <td>Widowed</td>\n",
              "      <td>No formal education</td>\n",
              "      <td>Government Dependent</td>\n",
              "    </tr>\n",
              "  </tbody>\n",
              "</table>\n",
              "</div>"
            ],
            "text/plain": [
              "  country  year  ...  Level of Educuation           Type of Job\n",
              "0   Kenya  2018  ...  Secondary education         Self employed\n",
              "1   Kenya  2018  ...  No formal education  Government Dependent\n",
              "\n",
              "[2 rows x 13 columns]"
            ]
          },
          "metadata": {
            "tags": []
          },
          "execution_count": 163
        }
      ]
    },
    {
      "cell_type": "markdown",
      "metadata": {
        "id": "ZsMcLMkZBPhD",
        "colab_type": "text"
      },
      "source": [
        "Finding more information about the dataset"
      ]
    },
    {
      "cell_type": "code",
      "metadata": {
        "id": "4j7TQIx0eWYE",
        "colab_type": "code",
        "colab": {
          "base_uri": "https://localhost:8080/",
          "height": 357
        },
        "outputId": "be45ef02-59d0-442b-ac69-68fc9f67e3f9"
      },
      "source": [
        "df.info()"
      ],
      "execution_count": 164,
      "outputs": [
        {
          "output_type": "stream",
          "text": [
            "<class 'pandas.core.frame.DataFrame'>\n",
            "RangeIndex: 23524 entries, 0 to 23523\n",
            "Data columns (total 13 columns):\n",
            " #   Column                  Non-Null Count  Dtype  \n",
            "---  ------                  --------------  -----  \n",
            " 0   country                 23510 non-null  object \n",
            " 1   year                    23524 non-null  int64  \n",
            " 2   uniqueid                23524 non-null  object \n",
            " 3   Has a Bank account      23488 non-null  object \n",
            " 4   Type of Location        23509 non-null  object \n",
            " 5   Cell Phone Access       23513 non-null  object \n",
            " 6   household_size          23496 non-null  float64\n",
            " 7   Respondent Age          23490 non-null  float64\n",
            " 8   gender_of_respondent    23490 non-null  object \n",
            " 9   The relathip with head  23520 non-null  object \n",
            " 10  marital_status          23492 non-null  object \n",
            " 11  Level of Educuation     23495 non-null  object \n",
            " 12  Type of Job             23494 non-null  object \n",
            "dtypes: float64(2), int64(1), object(10)\n",
            "memory usage: 2.3+ MB\n"
          ],
          "name": "stdout"
        }
      ]
    },
    {
      "cell_type": "code",
      "metadata": {
        "id": "yEd3w6Cm5_ol",
        "colab_type": "code",
        "colab": {}
      },
      "source": [
        "df.rename(columns={'Level of Educuation' : 'Level of Education', 'The relathip with head' : \"The relationship with head\"},inplace=True)"
      ],
      "execution_count": 165,
      "outputs": []
    },
    {
      "cell_type": "markdown",
      "metadata": {
        "id": "wBt8_-mZCIFt",
        "colab_type": "text"
      },
      "source": [
        "# The Data Cleaning Process"
      ]
    },
    {
      "cell_type": "markdown",
      "metadata": {
        "id": "h608mqTAlO01",
        "colab_type": "text"
      },
      "source": [
        "Standardizing the column names."
      ]
    },
    {
      "cell_type": "code",
      "metadata": {
        "id": "HFYaAvqb6UpK",
        "colab_type": "code",
        "colab": {}
      },
      "source": [
        "df.columns=map(str.lower,df.columns)"
      ],
      "execution_count": 166,
      "outputs": []
    },
    {
      "cell_type": "markdown",
      "metadata": {
        "id": "fJzVWUeXlZv7",
        "colab_type": "text"
      },
      "source": [
        "Removing the space between letters and replacing with a _ sign."
      ]
    },
    {
      "cell_type": "code",
      "metadata": {
        "id": "YMEq99P48hrw",
        "colab_type": "code",
        "colab": {}
      },
      "source": [
        "df.columns=df.columns.str.replace(\" \",\"_\")"
      ],
      "execution_count": 167,
      "outputs": []
    },
    {
      "cell_type": "markdown",
      "metadata": {
        "id": "nPzWi-5NmHwq",
        "colab_type": "text"
      },
      "source": [
        "Checking for outliers in the dataset and we find out that there are inappropriate entries in the year column. I assume that it was an mistake in the entry in our dataset and shall not be removed."
      ]
    },
    {
      "cell_type": "code",
      "metadata": {
        "id": "MaMDgrDlIEXH",
        "colab_type": "code",
        "colab": {
          "base_uri": "https://localhost:8080/",
          "height": 34
        },
        "outputId": "4c7dd848-907d-4a5e-c744-1fa555373a7a"
      },
      "source": [
        "outliers=[]\n",
        "def detect_outlier(data):\n",
        "  threshold=3\n",
        "  mean_1=np.mean(data)\n",
        "  std_1=np.std(data)\n",
        "\n",
        "  for y in data:\n",
        "    z_score=(y-mean_1)/std_1\n",
        "    if np.abs(z_score)>threshold:\n",
        "      outliers.append(y)\n",
        "  return outliers\n",
        "detect_outlier(df['year'])"
      ],
      "execution_count": 169,
      "outputs": [
        {
          "output_type": "execute_result",
          "data": {
            "text/plain": [
              "[2029, 2056, 2039]"
            ]
          },
          "metadata": {
            "tags": []
          },
          "execution_count": 169
        }
      ]
    },
    {
      "cell_type": "markdown",
      "metadata": {
        "id": "enADK65gmfTc",
        "colab_type": "text"
      },
      "source": [
        "Checking for null values in our dataset"
      ]
    },
    {
      "cell_type": "code",
      "metadata": {
        "id": "_KdwVI8SDCOx",
        "colab_type": "code",
        "colab": {
          "base_uri": "https://localhost:8080/",
          "height": 255
        },
        "outputId": "36c7dba8-45f3-40df-8cea-3e55142fb4e0"
      },
      "source": [
        "df.isnull().sum()"
      ],
      "execution_count": 170,
      "outputs": [
        {
          "output_type": "execute_result",
          "data": {
            "text/plain": [
              "country                       14\n",
              "year                           0\n",
              "uniqueid                       0\n",
              "has_a_bank_account            36\n",
              "type_of_location              15\n",
              "cell_phone_access             11\n",
              "household_size                28\n",
              "respondent_age                34\n",
              "gender_of_respondent          34\n",
              "the_relationship_with_head     4\n",
              "marital_status                32\n",
              "level_of_education            29\n",
              "type_of_job                   30\n",
              "dtype: int64"
            ]
          },
          "metadata": {
            "tags": []
          },
          "execution_count": 170
        }
      ]
    },
    {
      "cell_type": "markdown",
      "metadata": {
        "id": "DGDTsq_Ymwyy",
        "colab_type": "text"
      },
      "source": [
        "Dropping the null values and fining out the shape of our new dataframe"
      ]
    },
    {
      "cell_type": "code",
      "metadata": {
        "id": "HUuEga_MDIsf",
        "colab_type": "code",
        "colab": {
          "base_uri": "https://localhost:8080/",
          "height": 34
        },
        "outputId": "79964f9a-bc33-40c0-d595-f8bc350d26c6"
      },
      "source": [
        "df=df.dropna()\n",
        "df.shape"
      ],
      "execution_count": 171,
      "outputs": [
        {
          "output_type": "execute_result",
          "data": {
            "text/plain": [
              "(23343, 13)"
            ]
          },
          "metadata": {
            "tags": []
          },
          "execution_count": 171
        }
      ]
    },
    {
      "cell_type": "markdown",
      "metadata": {
        "id": "uZrUFMFEDhCQ",
        "colab_type": "text"
      },
      "source": [
        "# The Univariate Analysis"
      ]
    },
    {
      "cell_type": "markdown",
      "metadata": {
        "id": "flhLb633Hfd6",
        "colab_type": "text"
      },
      "source": [
        "Finding out the representation of countries in our dataset. Rwanda has the highest number of respondents while Uganda has the lowest number of respondents."
      ]
    },
    {
      "cell_type": "code",
      "metadata": {
        "id": "CRYdPr7OHMYC",
        "colab_type": "code",
        "colab": {
          "base_uri": "https://localhost:8080/",
          "height": 102
        },
        "outputId": "06bca94a-a107-487c-86e6-c962ee664fd8"
      },
      "source": [
        "df.country.value_counts()"
      ],
      "execution_count": 178,
      "outputs": [
        {
          "output_type": "execute_result",
          "data": {
            "text/plain": [
              "Rwanda      8684\n",
              "Tanzania    6500\n",
              "Kenya       6064\n",
              "Uganda      2095\n",
              "Name: country, dtype: int64"
            ]
          },
          "metadata": {
            "tags": []
          },
          "execution_count": 178
        }
      ]
    },
    {
      "cell_type": "markdown",
      "metadata": {
        "id": "52xPIl7DH4Sy",
        "colab_type": "text"
      },
      "source": [
        "Visualizing the information above in a bar graph"
      ]
    },
    {
      "cell_type": "code",
      "metadata": {
        "id": "t83Bh4KCMFy4",
        "colab_type": "code",
        "colab": {
          "base_uri": "https://localhost:8080/",
          "height": 34
        },
        "outputId": "abbb6add-da4d-4676-9bec-38b0a921a391"
      },
      "source": [
        "df['respondent_age'].mean()"
      ],
      "execution_count": 190,
      "outputs": [
        {
          "output_type": "execute_result",
          "data": {
            "text/plain": [
              "38.80550914621085"
            ]
          },
          "metadata": {
            "tags": []
          },
          "execution_count": 190
        }
      ]
    },
    {
      "cell_type": "code",
      "metadata": {
        "id": "_VLMOXbuMMGZ",
        "colab_type": "code",
        "colab": {
          "base_uri": "https://localhost:8080/",
          "height": 51
        },
        "outputId": "70470805-5c2e-4587-db11-320286d398a1"
      },
      "source": [
        "df['respondent_age'].mode()"
      ],
      "execution_count": 191,
      "outputs": [
        {
          "output_type": "execute_result",
          "data": {
            "text/plain": [
              "0    30.0\n",
              "dtype: float64"
            ]
          },
          "metadata": {
            "tags": []
          },
          "execution_count": 191
        }
      ]
    },
    {
      "cell_type": "code",
      "metadata": {
        "id": "MwCEyQTNMUyB",
        "colab_type": "code",
        "colab": {
          "base_uri": "https://localhost:8080/",
          "height": 34
        },
        "outputId": "eb74c584-bd0a-448e-dd91-c8830059b7ce"
      },
      "source": [
        "df['respondent_age'].median()"
      ],
      "execution_count": 192,
      "outputs": [
        {
          "output_type": "execute_result",
          "data": {
            "text/plain": [
              "35.0"
            ]
          },
          "metadata": {
            "tags": []
          },
          "execution_count": 192
        }
      ]
    },
    {
      "cell_type": "code",
      "metadata": {
        "id": "TbI88nLMN3Jh",
        "colab_type": "code",
        "colab": {
          "base_uri": "https://localhost:8080/",
          "height": 34
        },
        "outputId": "829cf0d6-8a70-494e-b9d1-efd767bd38fd"
      },
      "source": [
        "df['respondent_age'].skew()"
      ],
      "execution_count": 193,
      "outputs": [
        {
          "output_type": "execute_result",
          "data": {
            "text/plain": [
              "0.840661747532081"
            ]
          },
          "metadata": {
            "tags": []
          },
          "execution_count": 193
        }
      ]
    },
    {
      "cell_type": "code",
      "metadata": {
        "id": "PUMh4q1gcbkG",
        "colab_type": "code",
        "colab": {
          "base_uri": "https://localhost:8080/",
          "height": 34
        },
        "outputId": "cf593438-54b8-4139-9c47-9f0be24f8fb1"
      },
      "source": [
        "df['respondent_age'].std()"
      ],
      "execution_count": 225,
      "outputs": [
        {
          "output_type": "execute_result",
          "data": {
            "text/plain": [
              "16.51980349804178"
            ]
          },
          "metadata": {
            "tags": []
          },
          "execution_count": 225
        }
      ]
    },
    {
      "cell_type": "code",
      "metadata": {
        "id": "x-V1cCV0ckSl",
        "colab_type": "code",
        "colab": {
          "base_uri": "https://localhost:8080/",
          "height": 34
        },
        "outputId": "0dcd5159-3336-4903-99f1-1c73750dc77c"
      },
      "source": [
        "df['respondent_age'].var()"
      ],
      "execution_count": 226,
      "outputs": [
        {
          "output_type": "execute_result",
          "data": {
            "text/plain": [
              "272.90390761391353"
            ]
          },
          "metadata": {
            "tags": []
          },
          "execution_count": 226
        }
      ]
    },
    {
      "cell_type": "code",
      "metadata": {
        "id": "OWxGPFNuOcec",
        "colab_type": "code",
        "colab": {
          "base_uri": "https://localhost:8080/",
          "height": 85
        },
        "outputId": "c4d60544-0ea9-49f9-eb56-f4874c8f67b3"
      },
      "source": [
        "df.kurt()"
      ],
      "execution_count": 198,
      "outputs": [
        {
          "output_type": "execute_result",
          "data": {
            "text/plain": [
              "year              164.914183\n",
              "household_size      1.153869\n",
              "respondent_age      0.098447\n",
              "dtype: float64"
            ]
          },
          "metadata": {
            "tags": []
          },
          "execution_count": 198
        }
      ]
    },
    {
      "cell_type": "code",
      "metadata": {
        "id": "5AtdmRKKOCiB",
        "colab_type": "code",
        "colab": {
          "base_uri": "https://localhost:8080/",
          "height": 297
        },
        "outputId": "c0e6c929-f986-4a6a-d3c8-8b5fca3d841a"
      },
      "source": [
        "df.describe()"
      ],
      "execution_count": 194,
      "outputs": [
        {
          "output_type": "execute_result",
          "data": {
            "text/html": [
              "<div>\n",
              "<style scoped>\n",
              "    .dataframe tbody tr th:only-of-type {\n",
              "        vertical-align: middle;\n",
              "    }\n",
              "\n",
              "    .dataframe tbody tr th {\n",
              "        vertical-align: top;\n",
              "    }\n",
              "\n",
              "    .dataframe thead th {\n",
              "        text-align: right;\n",
              "    }\n",
              "</style>\n",
              "<table border=\"1\" class=\"dataframe\">\n",
              "  <thead>\n",
              "    <tr style=\"text-align: right;\">\n",
              "      <th></th>\n",
              "      <th>year</th>\n",
              "      <th>household_size</th>\n",
              "      <th>respondent_age</th>\n",
              "    </tr>\n",
              "  </thead>\n",
              "  <tbody>\n",
              "    <tr>\n",
              "      <th>count</th>\n",
              "      <td>23343.000000</td>\n",
              "      <td>23343.000000</td>\n",
              "      <td>23343.000000</td>\n",
              "    </tr>\n",
              "    <tr>\n",
              "      <th>mean</th>\n",
              "      <td>2016.980594</td>\n",
              "      <td>3.688643</td>\n",
              "      <td>38.805509</td>\n",
              "    </tr>\n",
              "    <tr>\n",
              "      <th>std</th>\n",
              "      <td>0.901740</td>\n",
              "      <td>2.281184</td>\n",
              "      <td>16.519803</td>\n",
              "    </tr>\n",
              "    <tr>\n",
              "      <th>min</th>\n",
              "      <td>2016.000000</td>\n",
              "      <td>0.000000</td>\n",
              "      <td>16.000000</td>\n",
              "    </tr>\n",
              "    <tr>\n",
              "      <th>25%</th>\n",
              "      <td>2016.000000</td>\n",
              "      <td>2.000000</td>\n",
              "      <td>26.000000</td>\n",
              "    </tr>\n",
              "    <tr>\n",
              "      <th>50%</th>\n",
              "      <td>2017.000000</td>\n",
              "      <td>3.000000</td>\n",
              "      <td>35.000000</td>\n",
              "    </tr>\n",
              "    <tr>\n",
              "      <th>75%</th>\n",
              "      <td>2018.000000</td>\n",
              "      <td>5.000000</td>\n",
              "      <td>49.000000</td>\n",
              "    </tr>\n",
              "    <tr>\n",
              "      <th>max</th>\n",
              "      <td>2056.000000</td>\n",
              "      <td>21.000000</td>\n",
              "      <td>100.000000</td>\n",
              "    </tr>\n",
              "  </tbody>\n",
              "</table>\n",
              "</div>"
            ],
            "text/plain": [
              "               year  household_size  respondent_age\n",
              "count  23343.000000    23343.000000    23343.000000\n",
              "mean    2016.980594        3.688643       38.805509\n",
              "std        0.901740        2.281184       16.519803\n",
              "min     2016.000000        0.000000       16.000000\n",
              "25%     2016.000000        2.000000       26.000000\n",
              "50%     2017.000000        3.000000       35.000000\n",
              "75%     2018.000000        5.000000       49.000000\n",
              "max     2056.000000       21.000000      100.000000"
            ]
          },
          "metadata": {
            "tags": []
          },
          "execution_count": 194
        }
      ]
    },
    {
      "cell_type": "code",
      "metadata": {
        "id": "B5_lcSr-cUJ_",
        "colab_type": "code",
        "colab": {
          "base_uri": "https://localhost:8080/",
          "height": 329
        },
        "outputId": "ab255ddb-0483-49a9-e287-6fd8ce2bf400"
      },
      "source": [
        "df['country'].value_counts().plot.bar()\n",
        "plt.xlabel('Country')\n",
        "plt.ylabel('Number Of participants')\n",
        "plt.title('Bar graph representing the distribution of participants across East Africa')\n",
        "plt.show()"
      ],
      "execution_count": 237,
      "outputs": [
        {
          "output_type": "display_data",
          "data": {
            "image/png": "[encoded data removed]",
            "text/plain": [
              "<Figure size 432x288 with 1 Axes>"
            ]
          },
          "metadata": {
            "tags": [],
            "needs_background": "light"
          }
        }
      ]
    },
    {
      "cell_type": "markdown",
      "metadata": {
        "id": "lzzQ_9B-KQ0K",
        "colab_type": "text"
      },
      "source": [
        "Finding out the location that had the highest participants. Where I found out the rural area had the highest number."
      ]
    },
    {
      "cell_type": "code",
      "metadata": {
        "id": "q0goVMAGcx4_",
        "colab_type": "code",
        "colab": {
          "base_uri": "https://localhost:8080/",
          "height": 316
        },
        "outputId": "a4dfa419-13ee-42cf-97d4-90f9f709d403"
      },
      "source": [
        "df['type_of_location'].value_counts().plot.bar()\n",
        "plt.xlabel('Type Of Location')\n",
        "plt.ylabel('Number Of Participants')\n",
        "plt.title('Bar graph of Location against Participants')\n",
        "plt.show()"
      ],
      "execution_count": 196,
      "outputs": [
        {
          "output_type": "display_data",
          "data": {
            "image/png": "[encoded data removed]",
            "text/plain": [
              "<Figure size 432x288 with 1 Axes>"
            ]
          },
          "metadata": {
            "tags": [],
            "needs_background": "light"
          }
        }
      ]
    },
    {
      "cell_type": "code",
      "metadata": {
        "id": "FCxfJzfTdvGw",
        "colab_type": "code",
        "colab": {
          "base_uri": "https://localhost:8080/",
          "height": 329
        },
        "outputId": "ec7c6284-e676-4401-eda4-8357064d59f2"
      },
      "source": [
        "bi=df.groupby(['country'])['household_size'].sum()\n",
        "bi.plot.bar()\n",
        "plt.xlabel('Country')\n",
        "plt.ylabel('The Number Of Persons')\n",
        "plt.title('Number of Persons in a Country')\n",
        "plt.show()"
      ],
      "execution_count": 195,
      "outputs": [
        {
          "output_type": "display_data",
          "data": {
            "image/png": "[encoded data removed]",
            "text/plain": [
              "<Figure size 432x288 with 1 Axes>"
            ]
          },
          "metadata": {
            "tags": [],
            "needs_background": "light"
          }
        }
      ]
    },
    {
      "cell_type": "markdown",
      "metadata": {
        "id": "YdWpDgsxRwEM",
        "colab_type": "text"
      },
      "source": [
        "Finding out whether household size has an impact on having a bank account. In the graph below shows there is no significant difference."
      ]
    },
    {
      "cell_type": "code",
      "metadata": {
        "id": "_O2AXK4pI-xz",
        "colab_type": "code",
        "colab": {
          "base_uri": "https://localhost:8080/",
          "height": 318
        },
        "outputId": "62da1753-f8e3-418e-d5b2-1afac096a61b"
      },
      "source": [
        "new=df.groupby(['has_a_bank_account'])['household_size'].median()\n",
        "new.plot.bar()\n",
        "plt.xlabel('Bank account decision')\n",
        "plt.ylabel('Average household size')\n",
        "plt.title('Graph of bank account vs household size')\n"
      ],
      "execution_count": 235,
      "outputs": [
        {
          "output_type": "execute_result",
          "data": {
            "text/plain": [
              "Text(0.5, 1.0, 'Graph of bank account vs household size')"
            ]
          },
          "metadata": {
            "tags": []
          },
          "execution_count": 235
        },
        {
          "output_type": "display_data",
          "data": {
            "image/png": "[encoded data removed]",
            "text/plain": [
              "<Figure size 432x288 with 1 Axes>"
            ]
          },
          "metadata": {
            "tags": [],
            "needs_background": "light"
          }
        }
      ]
    },
    {
      "cell_type": "markdown",
      "metadata": {
        "id": "USHFfB1ZXk4I",
        "colab_type": "text"
      },
      "source": [
        "Finding out the country with the highest number of bank holders. Kenya has the highest number of bank holders while Uganda has the lowest number of bank holders."
      ]
    },
    {
      "cell_type": "code",
      "metadata": {
        "id": "1dwmyTKUXfqh",
        "colab_type": "code",
        "colab": {
          "base_uri": "https://localhost:8080/",
          "height": 329
        },
        "outputId": "df641f3f-78b6-45dd-c1d6-1623115f86c6"
      },
      "source": [
        "df1=df[df['has_a_bank_account']=='Yes']\n",
        "df2=df1.groupby(['country'])['has_a_bank_account'].count()\n",
        "df2.plot.bar()\n",
        "plt.xlabel('Country')\n",
        "plt.ylabel('Number of respondents with a bank account')\n",
        "plt.title('The number of respondents per country with a bank account')\n",
        "plt.show()"
      ],
      "execution_count": 220,
      "outputs": [
        {
          "output_type": "display_data",
          "data": {
            "image/png": "[encoded data removed]",
            "text/plain": [
              "<Figure size 432x288 with 1 Axes>"
            ]
          },
          "metadata": {
            "tags": [],
            "needs_background": "light"
          }
        }
      ]
    },
    {
      "cell_type": "markdown",
      "metadata": {
        "id": "nS-VK1GAYT0W",
        "colab_type": "text"
      },
      "source": [
        "In the graph below we finding out whether the type of location has an effect on whether one has a bank account, which I found out does not affect."
      ]
    },
    {
      "cell_type": "code",
      "metadata": {
        "id": "kf_n-xZQX2g7",
        "colab_type": "code",
        "colab": {
          "base_uri": "https://localhost:8080/",
          "height": 316
        },
        "outputId": "4443339f-47ca-4414-da6f-63b45e0b44f7"
      },
      "source": [
        "df3=df1.groupby(['type_of_location'])['has_a_bank_account'].count()\n",
        "df3.plot.bar()\n",
        "plt.xlabel('The type of Location')\n",
        "plt.ylabel('The number of respondents with a bank account')\n",
        "plt.title('The number of respondents in a location with a bank account')\n",
        "plt.show()"
      ],
      "execution_count": 222,
      "outputs": [
        {
          "output_type": "display_data",
          "data": {
            "image/png": "[encoded data removed]",
            "text/plain": [
              "<Figure size 432x288 with 1 Axes>"
            ]
          },
          "metadata": {
            "tags": [],
            "needs_background": "light"
          }
        }
      ]
    },
    {
      "cell_type": "code",
      "metadata": {
        "id": "BHgckkoVYlpk",
        "colab_type": "code",
        "colab": {
          "base_uri": "https://localhost:8080/",
          "height": 439
        },
        "outputId": "6b64c277-73fa-4c10-e34c-b299ffe4592a"
      },
      "source": [
        "df4=df1.groupby(['level_of_education'])['has_a_bank_account'].count()\n",
        "df4.plot.bar()\n",
        "plt.xlabel('The level of education')\n",
        "plt.ylabel('The number of respondents with bank accounts')\n",
        "plt.title('The number of respondents per level of education')\n",
        "plt.show()"
      ],
      "execution_count": 223,
      "outputs": [
        {
          "output_type": "display_data",
          "data": {
            "image/png": "[encoded data removed]",
            "text/plain": [
              "<Figure size 432x288 with 1 Axes>"
            ]
          },
          "metadata": {
            "tags": [],
            "needs_background": "light"
          }
        }
      ]
    },
    {
      "cell_type": "code",
      "metadata": {
        "id": "VeeEnxSeaSzH",
        "colab_type": "code",
        "colab": {
          "base_uri": "https://localhost:8080/",
          "height": 403
        },
        "outputId": "a3603d7a-7288-49a3-c72e-1100aa31ecdd"
      },
      "source": [
        "df5=df1.groupby(['marital_status'])['has_a_bank_account'].count()\n",
        "df5.plot.bar()\n",
        "plt.xlabel('The marital status')\n",
        "plt.ylabel('The number of respondents with bank accounts')\n",
        "plt.title('The number of respondents per marital status')\n",
        "plt.show()"
      ],
      "execution_count": 233,
      "outputs": [
        {
          "output_type": "display_data",
          "data": {
            "image/png": "[encoded data removed]",
            "text/plain": [
              "<Figure size 432x288 with 1 Axes>"
            ]
          },
          "metadata": {
            "tags": [],
            "needs_background": "light"
          }
        }
      ]
    },
    {
      "cell_type": "code",
      "metadata": {
        "id": "xrcboxhKcpv7",
        "colab_type": "code",
        "colab": {
          "base_uri": "https://localhost:8080/",
          "height": 264
        },
        "outputId": "df4bee6e-fee4-483a-e6e0-1292bf09852e"
      },
      "source": [
        "df6=df1.groupby(['cell_phone_access'])['has_a_bank_account'].count()\n",
        "df6.plot.pie()\n",
        "plt.title(\"Pie chart for number of people who have bank accounts and cell phone access\")\n",
        "plt.show()"
      ],
      "execution_count": 238,
      "outputs": [
        {
          "output_type": "display_data",
          "data": {
            "image/png": "[encoded data removed]",
            "text/plain": [
              "<Figure size 432x288 with 1 Axes>"
            ]
          },
          "metadata": {
            "tags": []
          }
        }
      ]
    },
    {
      "cell_type": "code",
      "metadata": {
        "id": "DMefD9zmfh_U",
        "colab_type": "code",
        "colab": {
          "base_uri": "https://localhost:8080/",
          "height": 264
        },
        "outputId": "17df7762-dc7a-421b-9570-955b67e2af46"
      },
      "source": [
        "df7=df1.groupby(['gender_of_respondent'])['has_a_bank_account'].count()\n",
        "df7.plot.pie()\n",
        "plt.title(\"Pie chart for number of people who have bank accounts and cell phone access\")\n",
        "plt.show()"
      ],
      "execution_count": 242,
      "outputs": [
        {
          "output_type": "display_data",
          "data": {
            "image/png": "[encoded data removed]",
            "text/plain": [
              "<Figure size 432x288 with 1 Axes>"
            ]
          },
          "metadata": {
            "tags": []
          }
        }
      ]
    },
    {
      "cell_type": "markdown",
      "metadata": {
        "id": "lvsxqGYiOTwL",
        "colab_type": "text"
      },
      "source": [
        "# The Bivariate Analysis"
      ]
    },
    {
      "cell_type": "code",
      "metadata": {
        "id": "K4WyYaIhSIid",
        "colab_type": "code",
        "colab": {
          "base_uri": "https://localhost:8080/",
          "height": 238
        },
        "outputId": "686b84f6-5350-466c-a25e-5c414a1cbb8c"
      },
      "source": [
        "!pip install -q researchpy\n",
        "import researchpy as rp\n",
        "rp.summary_cont(df.groupby('country')['respondent_age'])"
      ],
      "execution_count": 207,
      "outputs": [
        {
          "output_type": "stream",
          "text": [
            "\n",
            "\n"
          ],
          "name": "stdout"
        },
        {
          "output_type": "execute_result",
          "data": {
            "text/html": [
              "<div>\n",
              "<style scoped>\n",
              "    .dataframe tbody tr th:only-of-type {\n",
              "        vertical-align: middle;\n",
              "    }\n",
              "\n",
              "    .dataframe tbody tr th {\n",
              "        vertical-align: top;\n",
              "    }\n",
              "\n",
              "    .dataframe thead th {\n",
              "        text-align: right;\n",
              "    }\n",
              "</style>\n",
              "<table border=\"1\" class=\"dataframe\">\n",
              "  <thead>\n",
              "    <tr style=\"text-align: right;\">\n",
              "      <th></th>\n",
              "      <th>N</th>\n",
              "      <th>Mean</th>\n",
              "      <th>SD</th>\n",
              "      <th>SE</th>\n",
              "      <th>95% Conf.</th>\n",
              "      <th>Interval</th>\n",
              "    </tr>\n",
              "    <tr>\n",
              "      <th>country</th>\n",
              "      <th></th>\n",
              "      <th></th>\n",
              "      <th></th>\n",
              "      <th></th>\n",
              "      <th></th>\n",
              "      <th></th>\n",
              "    </tr>\n",
              "  </thead>\n",
              "  <tbody>\n",
              "    <tr>\n",
              "      <th>Kenya</th>\n",
              "      <td>6064</td>\n",
              "      <td>39.620218</td>\n",
              "      <td>17.215693</td>\n",
              "      <td>0.221078</td>\n",
              "      <td>39.186870</td>\n",
              "      <td>40.053566</td>\n",
              "    </tr>\n",
              "    <tr>\n",
              "      <th>Rwanda</th>\n",
              "      <td>8684</td>\n",
              "      <td>39.276601</td>\n",
              "      <td>16.261983</td>\n",
              "      <td>0.174507</td>\n",
              "      <td>38.934547</td>\n",
              "      <td>39.618655</td>\n",
              "    </tr>\n",
              "    <tr>\n",
              "      <th>Tanzania</th>\n",
              "      <td>6500</td>\n",
              "      <td>38.482462</td>\n",
              "      <td>16.441895</td>\n",
              "      <td>0.203937</td>\n",
              "      <td>38.082715</td>\n",
              "      <td>38.882208</td>\n",
              "    </tr>\n",
              "    <tr>\n",
              "      <th>Uganda</th>\n",
              "      <td>2095</td>\n",
              "      <td>35.496897</td>\n",
              "      <td>15.304233</td>\n",
              "      <td>0.334364</td>\n",
              "      <td>34.841387</td>\n",
              "      <td>36.152407</td>\n",
              "    </tr>\n",
              "  </tbody>\n",
              "</table>\n",
              "</div>"
            ],
            "text/plain": [
              "             N       Mean         SD        SE  95% Conf.   Interval\n",
              "country                                                             \n",
              "Kenya     6064  39.620218  17.215693  0.221078  39.186870  40.053566\n",
              "Rwanda    8684  39.276601  16.261983  0.174507  38.934547  39.618655\n",
              "Tanzania  6500  38.482462  16.441895  0.203937  38.082715  38.882208\n",
              "Uganda    2095  35.496897  15.304233  0.334364  34.841387  36.152407"
            ]
          },
          "metadata": {
            "tags": []
          },
          "execution_count": 207
        }
      ]
    },
    {
      "cell_type": "code",
      "metadata": {
        "id": "uLWL1L3rt6cQ",
        "colab_type": "code",
        "colab": {
          "base_uri": "https://localhost:8080/",
          "height": 296
        },
        "outputId": "b6f13265-6735-4c41-acb1-2d0fa4b587da"
      },
      "source": [
        "bx=sns.countplot('cell_phone_access', hue='gender_of_respondent', data=df)\n",
        "bx.set(ylabel='Number of Respondents',title='Cell Phone Access by Gender')\n",
        "plt.show()"
      ],
      "execution_count": 244,
      "outputs": [
        {
          "output_type": "display_data",
          "data": {
            "image/png": "[encoded data removed]",
            "text/plain": [
              "<Figure size 432x288 with 1 Axes>"
            ]
          },
          "metadata": {
            "tags": [],
            "needs_background": "light"
          }
        }
      ]
    },
    {
      "cell_type": "code",
      "metadata": {
        "id": "DcLOBdlwuZOI",
        "colab_type": "code",
        "colab": {
          "base_uri": "https://localhost:8080/",
          "height": 296
        },
        "outputId": "b189786a-d253-4f2d-d8d3-7ccde4a09fb2"
      },
      "source": [
        "sx=sns.countplot('cell_phone_access', hue='type_of_location', data=df)\n",
        "sx.set(ylabel='Number of respondents',title='Cell phone access by Location')\n",
        "plt.show()"
      ],
      "execution_count": 246,
      "outputs": [
        {
          "output_type": "display_data",
          "data": {
            "image/png": "[encoded data removed]",
            "text/plain": [
              "<Figure size 432x288 with 1 Axes>"
            ]
          },
          "metadata": {
            "tags": [],
            "needs_background": "light"
          }
        }
      ]
    },
    {
      "cell_type": "markdown",
      "metadata": {
        "id": "-rXLTDlAkYcm",
        "colab_type": "text"
      },
      "source": [
        "# Principal Component Analysis"
      ]
    },
    {
      "cell_type": "markdown",
      "metadata": {
        "id": "vGBDKnV-vMn-",
        "colab_type": "text"
      },
      "source": [
        "Here we are labelling the dataset that have two outcomes."
      ]
    },
    {
      "cell_type": "code",
      "metadata": {
        "id": "EjefGdcNvAk6",
        "colab_type": "code",
        "colab": {}
      },
      "source": [
        "encode={\"Has a Bank account\" : {\"Yes\" : 1, \"No\": 0},\"Type of Location\" : {\"Rural\" : 1, \"Urban\" : 0},\"Cell Phone Access\" : {\"Yes\" : 1, \"No\" : 0}, \"gender_of_respondent\" : {\"Female\" : 1, \"Male\" : 1}}"
      ],
      "execution_count": null,
      "outputs": []
    },
    {
      "cell_type": "code",
      "metadata": {
        "id": "KcXuazTNvGno",
        "colab_type": "code",
        "colab": {}
      },
      "source": [
        "df.replace(encode, inplace=True)\n",
        "df.head()"
      ],
      "execution_count": null,
      "outputs": []
    },
    {
      "cell_type": "markdown",
      "metadata": {
        "id": "EQ3kkB-gvRg0",
        "colab_type": "text"
      },
      "source": [
        "Dropping the unnecessary columns."
      ]
    },
    {
      "cell_type": "code",
      "metadata": {
        "id": "icp4bb-ZvKwA",
        "colab_type": "code",
        "colab": {}
      },
      "source": [
        "df.drop(['country','year','uniqueid','the_relationship_with_head','marital_status','level_of_education','type_of_job'],axis=1,inplace=True)"
      ],
      "execution_count": null,
      "outputs": []
    },
    {
      "cell_type": "markdown",
      "metadata": {
        "id": "F1nnhpIDgNp7",
        "colab_type": "text"
      },
      "source": [
        "Defining the variables to work with in our dimension reduction using Principal Component Analysis."
      ]
    },
    {
      "cell_type": "code",
      "metadata": {
        "id": "HYQn67QGbcIe",
        "colab_type": "code",
        "colab": {}
      },
      "source": [
        "X=df.drop('Has a Bank account',1)\n",
        "y=df['Has a Bank account']"
      ],
      "execution_count": 22,
      "outputs": []
    },
    {
      "cell_type": "markdown",
      "metadata": {
        "id": "iGuVk2Jjgf6Y",
        "colab_type": "text"
      },
      "source": [
        "Splitting the dataset into the test and train and defining the size of the test data which will be 20% of the data."
      ]
    },
    {
      "cell_type": "code",
      "metadata": {
        "id": "WFXYf9Ztho1H",
        "colab_type": "code",
        "colab": {}
      },
      "source": [
        "from sklearn.model_selection import train_test_split\n",
        "\n",
        "X_train, X_test, y_train, y_test=train_test_split(X,y,test_size=0.2,random_state=0)"
      ],
      "execution_count": 23,
      "outputs": []
    },
    {
      "cell_type": "markdown",
      "metadata": {
        "id": "6dLs8jolguKV",
        "colab_type": "text"
      },
      "source": [
        "Importing the Standard Scaler from Sklearn to normalize the distribution of the data into normal distribution."
      ]
    },
    {
      "cell_type": "code",
      "metadata": {
        "id": "tsph6V9ziEL8",
        "colab_type": "code",
        "colab": {}
      },
      "source": [
        "from sklearn.preprocessing import StandardScaler\n",
        "\n",
        "sc=StandardScaler()\n",
        "X_train=sc.fit_transform(X_train)\n",
        "X_test=sc.transform(X_test)"
      ],
      "execution_count": 24,
      "outputs": []
    },
    {
      "cell_type": "markdown",
      "metadata": {
        "id": "1tiN9Ughg9-m",
        "colab_type": "text"
      },
      "source": [
        "Importing the PCA for our analysis which will only be used in the train data and all the factors will e considered."
      ]
    },
    {
      "cell_type": "code",
      "metadata": {
        "id": "Sx1vmLToiXWN",
        "colab_type": "code",
        "colab": {}
      },
      "source": [
        "from sklearn.decomposition import PCA\n",
        "\n",
        "pca=PCA()\n",
        "\n",
        "X_train=pca.fit_transform(X_train)\n",
        "X_test=pca.transform(X_test)\n"
      ],
      "execution_count": 25,
      "outputs": []
    },
    {
      "cell_type": "markdown",
      "metadata": {
        "id": "DyX31bNUiStv",
        "colab_type": "text"
      },
      "source": [
        "Finding out the variance for each principal component of our analysis. In our analysis we find out that the first four components account for 100% of the classification of whether one can pick a bank account or not. The first three components account for 82.9%"
      ]
    },
    {
      "cell_type": "code",
      "metadata": {
        "id": "y9dbV7QMipUt",
        "colab_type": "code",
        "colab": {
          "base_uri": "https://localhost:8080/",
          "height": 34
        },
        "outputId": "35b93273-448d-49cb-c8d2-49accafd7b95"
      },
      "source": [
        "explained_variance=pca.explained_variance_ratio_\n",
        "explained_variance"
      ],
      "execution_count": 26,
      "outputs": [
        {
          "output_type": "execute_result",
          "data": {
            "text/plain": [
              "array([0.33635136, 0.2677647 , 0.22548257, 0.17040137, 0.        ])"
            ]
          },
          "metadata": {
            "tags": []
          },
          "execution_count": 26
        }
      ]
    },
    {
      "cell_type": "markdown",
      "metadata": {
        "id": "JeXU59Uci2vP",
        "colab_type": "text"
      },
      "source": [
        "We are going to use the first component for our analysis in our prediction model."
      ]
    },
    {
      "cell_type": "code",
      "metadata": {
        "id": "gPBJhAK7ivKi",
        "colab_type": "code",
        "colab": {}
      },
      "source": [
        "from sklearn.decomposition import PCA\n",
        "pca=PCA(n_components=1)\n",
        "\n",
        "X_train=pca.fit_transform(X_train)\n",
        "X_test=pca.transform(X_test)"
      ],
      "execution_count": 32,
      "outputs": []
    },
    {
      "cell_type": "markdown",
      "metadata": {
        "id": "QJtGZ3FxjBv0",
        "colab_type": "text"
      },
      "source": [
        "Here we are going to train the model using the Random Forest Classifier to help out in the classification."
      ]
    },
    {
      "cell_type": "code",
      "metadata": {
        "id": "GW7HMlS7lI-P",
        "colab_type": "code",
        "colab": {
          "base_uri": "https://localhost:8080/",
          "height": 153
        },
        "outputId": "8ede6dc0-99ce-485b-e12d-7e22563c4026"
      },
      "source": [
        "from sklearn.ensemble import RandomForestClassifier\n",
        "classifier=RandomForestClassifier(max_depth=0.2, random_state=0)\n",
        "classifier.fit(X_train, y_train)"
      ],
      "execution_count": 33,
      "outputs": [
        {
          "output_type": "execute_result",
          "data": {
            "text/plain": [
              "RandomForestClassifier(bootstrap=True, ccp_alpha=0.0, class_weight=None,\n",
              "                       criterion='gini', max_depth=0.2, max_features='auto',\n",
              "                       max_leaf_nodes=None, max_samples=None,\n",
              "                       min_impurity_decrease=0.0, min_impurity_split=None,\n",
              "                       min_samples_leaf=1, min_samples_split=2,\n",
              "                       min_weight_fraction_leaf=0.0, n_estimators=100,\n",
              "                       n_jobs=None, oob_score=False, random_state=0, verbose=0,\n",
              "                       warm_start=False)"
            ]
          },
          "metadata": {
            "tags": []
          },
          "execution_count": 33
        }
      ]
    },
    {
      "cell_type": "markdown",
      "metadata": {
        "id": "2aBuWXGSjQrs",
        "colab_type": "text"
      },
      "source": [
        "Here we are going to test using the data that was set apart for the test and train to find out the efficiency of the model. "
      ]
    },
    {
      "cell_type": "code",
      "metadata": {
        "id": "ovxtsvcslsvZ",
        "colab_type": "code",
        "colab": {}
      },
      "source": [
        "y_pred=classifier.predict(X_test)"
      ],
      "execution_count": 34,
      "outputs": []
    },
    {
      "cell_type": "markdown",
      "metadata": {
        "id": "zaJf3VbJjf7c",
        "colab_type": "text"
      },
      "source": [
        "Importing the necessary libraries for measring the accuracy of the model."
      ]
    },
    {
      "cell_type": "code",
      "metadata": {
        "id": "I6DgtXXdly6J",
        "colab_type": "code",
        "colab": {}
      },
      "source": [
        "from sklearn.metrics import confusion_matrix\n",
        "from sklearn.metrics import accuracy_score"
      ],
      "execution_count": 35,
      "outputs": []
    },
    {
      "cell_type": "markdown",
      "metadata": {
        "id": "gnBxfp8KjnjX",
        "colab_type": "text"
      },
      "source": [
        "We find out the first principal Component has an 85% predictive capacity."
      ]
    },
    {
      "cell_type": "code",
      "metadata": {
        "id": "3ezNpZFfl7iD",
        "colab_type": "code",
        "colab": {
          "base_uri": "https://localhost:8080/",
          "height": 68
        },
        "outputId": "bf9cc82b-91cf-4193-ef3f-517e97eeb670"
      },
      "source": [
        "cm=confusion_matrix(y_test,y_pred)\n",
        "print(cm)\n",
        "print('Accuracy', accuracy_score(y_test,y_pred))"
      ],
      "execution_count": 36,
      "outputs": [
        {
          "output_type": "stream",
          "text": [
            "[[4015    0]\n",
            " [ 666    0]]\n",
            "Accuracy 0.8577227088229011\n"
          ],
          "name": "stdout"
        }
      ]
    },
    {
      "cell_type": "markdown",
      "metadata": {
        "id": "vtRVdUBDjyID",
        "colab_type": "text"
      },
      "source": [
        "Testing the model for factor analysis."
      ]
    },
    {
      "cell_type": "code",
      "metadata": {
        "id": "7Ke_hzgPDEfQ",
        "colab_type": "code",
        "colab": {
          "base_uri": "https://localhost:8080/",
          "height": 68
        },
        "outputId": "c1827569-af85-45fc-f0f9-742f22059781"
      },
      "source": [
        "from factor_analyzer.factor_analyzer import calculate_bartlett_sphericity\n",
        "\n",
        "chi_square_value, p_value=calculate_bartlett_sphericity(df)\n",
        "chi_square_value, p_value"
      ],
      "execution_count": 65,
      "outputs": [
        {
          "output_type": "stream",
          "text": [
            "/usr/local/lib/python3.6/dist-packages/numpy/linalg/linalg.py:2116: RuntimeWarning: invalid value encountered in det\n",
            "  r = _umath_linalg.det(a, signature=signature)\n"
          ],
          "name": "stderr"
        },
        {
          "output_type": "execute_result",
          "data": {
            "text/plain": [
              "(nan, nan)"
            ]
          },
          "metadata": {
            "tags": []
          },
          "execution_count": 65
        }
      ]
    },
    {
      "cell_type": "markdown",
      "metadata": {
        "id": "dX9FqvA8j-TC",
        "colab_type": "text"
      },
      "source": [
        "We find our dataset has no capacity for factor analysis with nan KMO value."
      ]
    },
    {
      "cell_type": "code",
      "metadata": {
        "id": "Mr3gj7tlmIKY",
        "colab_type": "code",
        "colab": {
          "base_uri": "https://localhost:8080/",
          "height": 136
        },
        "outputId": "6695ca3f-1598-40c5-96bd-9eef6c131656"
      },
      "source": [
        "#!pip install factor_analyzer==0.2.3\n",
        "from factor_analyzer.factor_analyzer import calculate_kmo\n",
        "kmo_all, kmo_model=calculate_kmo(df)\n",
        "kmo_all, kmo_model"
      ],
      "execution_count": 42,
      "outputs": [
        {
          "output_type": "execute_result",
          "data": {
            "text/plain": [
              "(                      KMO\n",
              " Has a Bank account    NaN\n",
              " Type of Location      NaN\n",
              " Cell Phone Access     NaN\n",
              " household_size        NaN\n",
              " Respondent Age        NaN\n",
              " gender_of_respondent  NaN, nan)"
            ]
          },
          "metadata": {
            "tags": []
          },
          "execution_count": 42
        }
      ]
    },
    {
      "cell_type": "markdown",
      "metadata": {
        "id": "-Zs7FBnNkORy",
        "colab_type": "text"
      },
      "source": [
        "# Linear Discriminant Analysis"
      ]
    },
    {
      "cell_type": "markdown",
      "metadata": {
        "id": "9kbbaKLUhaqe",
        "colab_type": "text"
      },
      "source": [
        "I divided the dataset."
      ]
    },
    {
      "cell_type": "code",
      "metadata": {
        "id": "S70qxFpO-EOs",
        "colab_type": "code",
        "colab": {}
      },
      "source": [
        "x=df.iloc[:,1:6].values\n",
        "Y=df.iloc[:,0].values"
      ],
      "execution_count": 52,
      "outputs": []
    },
    {
      "cell_type": "markdown",
      "metadata": {
        "id": "xxu-5njVoLAs",
        "colab_type": "text"
      },
      "source": [
        "Importing the train_test_split library to split the data into train and test."
      ]
    },
    {
      "cell_type": "code",
      "metadata": {
        "id": "pFckGg21AY0v",
        "colab_type": "code",
        "colab": {}
      },
      "source": [
        "from sklearn.model_selection import train_test_split\n",
        "\n",
        "x_train, x_test, Y_train, Y_test=train_test_split(x,Y,test_size=0.2,random_state=0)"
      ],
      "execution_count": 57,
      "outputs": []
    },
    {
      "cell_type": "markdown",
      "metadata": {
        "id": "UmUlqVYooX0K",
        "colab_type": "text"
      },
      "source": [
        "Creating a normal distribution of the data."
      ]
    },
    {
      "cell_type": "code",
      "metadata": {
        "id": "SkFWfu72AsOi",
        "colab_type": "code",
        "colab": {}
      },
      "source": [
        "from sklearn.preprocessing import StandardScaler\n",
        "sc=StandardScaler()\n",
        "x_train=sc.fit_transform(x_train)\n",
        "x_test=sc.transform(x_test)"
      ],
      "execution_count": 59,
      "outputs": []
    },
    {
      "cell_type": "markdown",
      "metadata": {
        "id": "uhNB-UyxocQW",
        "colab_type": "text"
      },
      "source": [
        "Importing the Linear Discriminant Analysis and using the first two components in our analysis."
      ]
    },
    {
      "cell_type": "code",
      "metadata": {
        "id": "Hxbs95JhBDho",
        "colab_type": "code",
        "colab": {
          "base_uri": "https://localhost:8080/",
          "height": 105
        },
        "outputId": "6b4cdd51-9d8d-400e-8c5c-a8126ffd569e"
      },
      "source": [
        "from sklearn.discriminant_analysis import LinearDiscriminantAnalysis as LDA\n",
        "\n",
        "lda=LDA(n_components=2)\n",
        "x_train=lda.fit_transform(x_train,Y_train)\n",
        "x_test=lda.transform(x_test)"
      ],
      "execution_count": 71,
      "outputs": [
        {
          "output_type": "stream",
          "text": [
            "/usr/local/lib/python3.6/dist-packages/sklearn/discriminant_analysis.py:463: ChangedBehaviorWarning: n_components cannot be larger than min(n_features, n_classes - 1). Using min(n_features, n_classes - 1) = min(1, 2 - 1) = 1 components.\n",
            "  ChangedBehaviorWarning)\n",
            "/usr/local/lib/python3.6/dist-packages/sklearn/discriminant_analysis.py:469: FutureWarning: In version 0.23, setting n_components > min(n_features, n_classes - 1) will raise a ValueError. You should set n_components to None (default), or a value smaller or equal to min(n_features, n_classes - 1).\n",
            "  warnings.warn(future_msg, FutureWarning)\n"
          ],
          "name": "stderr"
        }
      ]
    },
    {
      "cell_type": "markdown",
      "metadata": {
        "id": "BhkaHRgzomvN",
        "colab_type": "text"
      },
      "source": [
        "Using the Random Forest Classifier in our classification model."
      ]
    },
    {
      "cell_type": "code",
      "metadata": {
        "id": "RvR-UAyhBvWC",
        "colab_type": "code",
        "colab": {}
      },
      "source": [
        "from sklearn.ensemble import RandomForestClassifier\n",
        "classifier=RandomForestClassifier(max_depth=0.2, random_state=0)\n",
        "classifier.fit(x_train, Y_train)\n",
        "Y_pred=classifier.predict(x_test)"
      ],
      "execution_count": 72,
      "outputs": []
    },
    {
      "cell_type": "markdown",
      "metadata": {
        "id": "Vtr2wzwfos1l",
        "colab_type": "text"
      },
      "source": [
        "Finding out the predictive capacity of our Linear Discriminant model."
      ]
    },
    {
      "cell_type": "code",
      "metadata": {
        "id": "9qxKbW6tCHrq",
        "colab_type": "code",
        "colab": {
          "base_uri": "https://localhost:8080/",
          "height": 68
        },
        "outputId": "8aee6691-5e99-49fb-a440-1d18a57a3dbe"
      },
      "source": [
        "from sklearn.metrics import confusion_matrix\n",
        "from sklearn.metrics import accuracy_score\n",
        "\n",
        "cm=confusion_matrix(Y_test,Y_pred)\n",
        "print(cm)\n",
        "print('Accuracy' + str(accuracy_score(Y_test,Y_pred)))"
      ],
      "execution_count": 73,
      "outputs": [
        {
          "output_type": "stream",
          "text": [
            "[[4015    0]\n",
            " [ 666    0]]\n",
            "Accuracy0.8577227088229011\n"
          ],
          "name": "stdout"
        }
      ]
    },
    {
      "cell_type": "markdown",
      "metadata": {
        "id": "hty34Tgeo1ND",
        "colab_type": "text"
      },
      "source": [
        "Defining the metric for success."
      ]
    },
    {
      "cell_type": "markdown",
      "metadata": {
        "id": "Oqz3pxH6pGCo",
        "colab_type": "text"
      },
      "source": [
        "1. Which country is likely to have a new bank account holder? A person living in Kenya is more likely to open a new bank account."
      ]
    },
    {
      "cell_type": "markdown",
      "metadata": {
        "id": "eiMenQkepMXi",
        "colab_type": "text"
      },
      "source": [
        "2. Which location is likely to have a new bank account holder? There is no much difference of a person living in the rural area and urban area."
      ]
    },
    {
      "cell_type": "markdown",
      "metadata": {
        "id": "x9j0bYa5pQ2F",
        "colab_type": "text"
      },
      "source": [
        "3. What Gender is likely to have a new bank account? A male is more likely to open a bank account more than a female. Though there is no much significant difference."
      ]
    },
    {
      "cell_type": "markdown",
      "metadata": {
        "id": "wjFYB8QSpVhN",
        "colab_type": "text"
      },
      "source": [
        "  4.Which marital status is more likely to have a new bank account? A married person is more likely to open a new bank account."
      ]
    },
    {
      "cell_type": "markdown",
      "metadata": {
        "id": "2HmEGU4SpcMH",
        "colab_type": "text"
      },
      "source": [
        "5. What level of education is more likely to have new bank account? A person with primary level education is more likely to open a new bank account."
      ]
    },
    {
      "cell_type": "markdown",
      "metadata": {
        "id": "lcSNb-WFp2PB",
        "colab_type": "text"
      },
      "source": [
        "Our main experimental question will be to find out whether a married female adult living in the rural area, has cell phone access and is married is likely to have a bank account? Given the weighty married,and cell phone access, it is more likely the individual will open a new bank account."
      ]
    },
    {
      "cell_type": "markdown",
      "metadata": {
        "id": "YMohfQTorJlb",
        "colab_type": "text"
      },
      "source": [
        "Explorative Data Analysis."
      ]
    },
    {
      "cell_type": "markdown",
      "metadata": {
        "id": "z-71hVI1rMJe",
        "colab_type": "text"
      },
      "source": [
        "The data was enough for my analysis. The data was right for the survey and four components as proved in the Principal Component Analysis and Linear Discriminant Analysis were enough for the analysis. "
      ]
    }
  ]
}